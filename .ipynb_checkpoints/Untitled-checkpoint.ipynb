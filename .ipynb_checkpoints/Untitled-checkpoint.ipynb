{
 "cells": [
  {
   "cell_type": "code",
   "execution_count": 73,
   "id": "542a5861-72b4-4888-a792-ff2155da5dda",
   "metadata": {},
   "outputs": [],
   "source": [
    "#Modular Imports\n",
    "from tkinter import *"
   ]
  },
  {
   "cell_type": "code",
   "execution_count": 88,
   "id": "e7af387b-a8ff-490d-9534-887c15771d9a",
   "metadata": {},
   "outputs": [],
   "source": [
    "#setting root\n",
    "root = Tk()\n",
    "root.geometry('400x400')\n",
    "root.title('hello Wolrd')\n",
    "# Helper Functions\n",
    "def encrypt(input):\n",
    "    #list conmprehension to make it easier for me\n",
    "    return [ord(letter) for letter in input], \"\".join(map(lambda x: chr(x),tuple([ord(letter) + 1 if ord(letter) <= ord(\"z\") else chr(ord(letter) + 1 - ord(\"z\") + ord(\"a\")) for letter in input])))\n",
    "#main function + preq\n",
    "inputx = Entry(root)\n",
    "asciiLabel = Label(root, text=\"ASCII\")\n",
    "encryptedLabel = Label(root, text=\"Encryption\")\n",
    "\n",
    "def main():\n",
    "    encryption = list(encrypt(inputx.get()))\n",
    "    asciiLabel[\"text\"], encryptedLabel[\"text\"] = f\"ASCII: {encryption[0]}\", f\"Encryption: {encryption[1]}\"\n",
    "#setting up button\n",
    "button = Button(text=\"Display ASCII code and encrypted value\", command=main)  \n",
    "inputx.pack()\n",
    "button.pack()\n",
    "asciiLabel.pack()\n",
    "encryptedLabel.pack()\n",
    "\n",
    "root.mainloop()"
   ]
  },
  {
   "cell_type": "code",
   "execution_count": 75,
   "id": "7060e398-2808-4c32-8011-3be23013b48d",
   "metadata": {},
   "outputs": [],
   "source": [
    "# Helper Functions\n",
    "def encrypt(input):\n",
    "    #list conmprehension to make it easier for me\n",
    "    return [ord(letter) for letter in input], \"\".join(map(lambda x: chr(x),tuple([ord(letter) + 1 if ord(letter) <= ord(\"z\") else chr(ord(letter) + 1 - ord(\"z\") + ord(\"a\")) for letter in input])))\n",
    "                                                                           "
   ]
  },
  {
   "cell_type": "code",
   "execution_count": 76,
   "id": "930c6c9b-976d-4519-bfd8-99f57f3686c5",
   "metadata": {},
   "outputs": [],
   "source": [
    "#main function + preq\n",
    "input = Entry(root)\n",
    "asciiLabel = Label(root)\n",
    "encryptedLabel = Label(root)\n",
    "\n",
    "def main():\n",
    "    encryption = encrypt(input.get())\n",
    "    asciiLabel[\"text\"], encryptedLabel[\"text\"] = encryption[0], encryption[1]\n"
   ]
  },
  {
   "cell_type": "code",
   "execution_count": 77,
   "id": "75d09d11-b0f8-4148-a051-e784c7562f8a",
   "metadata": {},
   "outputs": [],
   "source": [
    "#setting up button\n",
    "button = Button(text=\"Display ASCII code and encrypted value\", command=main)"
   ]
  },
  {
   "cell_type": "code",
   "execution_count": 78,
   "id": "cb1f0d13-d7bd-400d-acff-3248e23f1532",
   "metadata": {},
   "outputs": [],
   "source": [
    "\n"
   ]
  },
  {
   "cell_type": "code",
   "execution_count": null,
   "id": "25324e99-82b7-4e9d-a613-7c6dc871871b",
   "metadata": {},
   "outputs": [],
   "source": []
  },
  {
   "cell_type": "code",
   "execution_count": null,
   "id": "2c6c600c-a46d-45f9-ae2f-e31971add0ac",
   "metadata": {},
   "outputs": [],
   "source": []
  }
 ],
 "metadata": {
  "kernelspec": {
   "display_name": "Python 3 (ipykernel)",
   "language": "python",
   "name": "python3"
  },
  "language_info": {
   "codemirror_mode": {
    "name": "ipython",
    "version": 3
   },
   "file_extension": ".py",
   "mimetype": "text/x-python",
   "name": "python",
   "nbconvert_exporter": "python",
   "pygments_lexer": "ipython3",
   "version": "3.10.1"
  }
 },
 "nbformat": 4,
 "nbformat_minor": 5
}
