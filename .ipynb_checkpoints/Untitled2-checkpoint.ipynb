{
 "cells": [
  {
   "cell_type": "code",
   "execution_count": 6,
   "id": "4c0490f1-2ebd-4160-9b8a-d05fc0a9ae4e",
   "metadata": {},
   "outputs": [
    {
     "name": "stdout",
     "output_type": "stream",
     "text": [
      "5\n",
      "The maximum profit of 456000 was recorded in the month of June\n",
      "8\n",
      "The minimum profit of 10000 was recorded in the month of September\n"
     ]
    }
   ],
   "source": [
    "month = (\"January\", \"Febuary\", \"March\", \"April\", \"May\", \"June\", \"July\", \"August\", \"September\", \"October\", \"November\", \"December\")\n",
    "profits = (20_000, 45_000, 78_000, 97_000, 120_000, 456_000, 65_000, 54_000, 10_000, 30_000, 70_000, 90_000)\n",
    "\n",
    "max_profit = [max(profits), month[profits.index(max(profits))]]\n",
    "min_profit = [min(profits), month[profits.index(min(profits))]]\n",
    "print(profits.index(max(profits)), f\"The maximum profit of {max_profit[0]} was recorded in the month of {max_profit[1]}\", sep=\"\\n\")\n",
    "\n",
    "print(profits.index(min(profits)), f\"The minimum profit of {min_profit[0]} was recorded in the month of {min_profit[1]}\", sep=\"\\n\")\n"
   ]
  },
  {
   "cell_type": "code",
   "execution_count": null,
   "id": "1b435efa-d5a8-4eb8-b60d-b795fce80d9b",
   "metadata": {},
   "outputs": [],
   "source": []
  }
 ],
 "metadata": {
  "kernelspec": {
   "display_name": "Python 3 (ipykernel)",
   "language": "python",
   "name": "python3"
  },
  "language_info": {
   "codemirror_mode": {
    "name": "ipython",
    "version": 3
   },
   "file_extension": ".py",
   "mimetype": "text/x-python",
   "name": "python",
   "nbconvert_exporter": "python",
   "pygments_lexer": "ipython3",
   "version": "3.10.1"
  }
 },
 "nbformat": 4,
 "nbformat_minor": 5
}
