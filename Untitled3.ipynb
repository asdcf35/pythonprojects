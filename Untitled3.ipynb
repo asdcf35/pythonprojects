{
 "cells": [
  {
   "cell_type": "markdown",
   "id": "f6f144d2-360a-4fa4-9505-7549efc51aa9",
   "metadata": {},
   "source": [
    "# Importing\n",
    "\n"
   ]
  },
  {
   "cell_type": "code",
   "execution_count": 1,
   "id": "dc9c5872-c554-4b84-8d07-381a746b831d",
   "metadata": {},
   "outputs": [],
   "source": [
    "from tkinter import * "
   ]
  },
  {
   "cell_type": "markdown",
   "id": "8192838e-bb33-4ce5-a9ca-6c9c89befc08",
   "metadata": {},
   "source": [
    "#"
   ]
  },
  {
   "cell_type": "code",
   "execution_count": null,
   "id": "ac57e9c1-f9eb-4c85-b03f-fc80df63a3dd",
   "metadata": {},
   "outputs": [],
   "source": []
  }
 ],
 "metadata": {
  "kernelspec": {
   "display_name": "Python 3 (ipykernel)",
   "language": "python",
   "name": "python3"
  },
  "language_info": {
   "codemirror_mode": {
    "name": "ipython",
    "version": 3
   },
   "file_extension": ".py",
   "mimetype": "text/x-python",
   "name": "python",
   "nbconvert_exporter": "python",
   "pygments_lexer": "ipython3",
   "version": "3.10.1"
  }
 },
 "nbformat": 4,
 "nbformat_minor": 5
}
