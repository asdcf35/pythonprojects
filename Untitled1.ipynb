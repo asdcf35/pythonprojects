{
 "cells": [
  {
   "cell_type": "code",
   "execution_count": 11,
   "id": "1ef340e3-a963-4142-9f9a-09acafa5f4aa",
   "metadata": {},
   "outputs": [],
   "source": [
    "from tkinter import *\n",
    "from random import *\n",
    "\n",
    "root = Tk()\n",
    "root.geometry('400x400');"
   ]
  },
  {
   "cell_type": "code",
   "execution_count": 12,
   "id": "d6b146fd-6a45-41c9-a323-12994a8fc8cd",
   "metadata": {},
   "outputs": [],
   "source": [
    "#preq \n",
    "items = ['cookies', 'watter bottle', 'lunch box', '$100 bill']\n",
    "itemsL = Label(root, text=str(items))\n",
    "item = Label(root)"
   ]
  },
  {
   "cell_type": "code",
   "execution_count": 16,
   "id": "7ad1bb05-4622-44ea-bdfe-ddc990b7f783",
   "metadata": {},
   "outputs": [],
   "source": [
    "def main():\n",
    "    item[\"text\"] = f\"Put item #{items[randint(1,len(items))]} in the bag\"\n",
    "\n"
   ]
  },
  {
   "cell_type": "code",
   "execution_count": 14,
   "id": "d8a9a1cc-ce4b-42b5-b0ed-bdc4df4f31df",
   "metadata": {},
   "outputs": [],
   "source": [
    "button = Button( text=\"What should I put in bag\", command=main);\n",
    "itemsL.pack()\n",
    "button.pack()\n",
    "item.pack()\n"
   ]
  },
  {
   "cell_type": "code",
   "execution_count": 17,
   "id": "440a2901-0199-45a9-bc6e-b88a982b91de",
   "metadata": {},
   "outputs": [],
   "source": [
    "root.mainloop()"
   ]
  },
  {
   "cell_type": "code",
   "execution_count": null,
   "id": "19cbfa54-52eb-432d-9497-59d47f8baf5c",
   "metadata": {},
   "outputs": [],
   "source": []
  }
 ],
 "metadata": {
  "kernelspec": {
   "display_name": "Python 3 (ipykernel)",
   "language": "python",
   "name": "python3"
  },
  "language_info": {
   "codemirror_mode": {
    "name": "ipython",
    "version": 3
   },
   "file_extension": ".py",
   "mimetype": "text/x-python",
   "name": "python",
   "nbconvert_exporter": "python",
   "pygments_lexer": "ipython3",
   "version": "3.10.1"
  }
 },
 "nbformat": 4,
 "nbformat_minor": 5
}
