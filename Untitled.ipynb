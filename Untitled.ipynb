{
 "cells": [
  {
   "cell_type": "code",
   "execution_count": 2,
   "id": "542a5861-72b4-4888-a792-ff2155da5dda",
   "metadata": {},
   "outputs": [],
   "source": [
    "#Modular Imports\n",
    "from tkinter import *"
   ]
  },
  {
   "cell_type": "code",
   "execution_count": 3,
   "id": "e7af387b-a8ff-490d-9534-887c15771d9a",
   "metadata": {},
   "outputs": [],
   "source": [
    "#setting root\n",
    "root = Tk()\n",
    "root.geometry('400x400')\n",
    "root.title('hello Wolrd')\n",
    "# Helper Functions\n",
    "def encrypt(input):\n",
    "    #list conmprehension to make it easier for me\n",
    "    return [ord(letter) for letter in input], \"\".join(map(lambda x: chr(x),tuple([ord(letter) + 1 if ord(letter) <= ord(\"z\") else chr(ord(letter) + 1 - ord(\"z\") + ord(\"a\")) for letter in input])))\n",
    "#main function + preq\n",
    "inputx = Entry(root)\n",
    "asciiLabel = Label(root, text=\"ASCII\")\n",
    "encryptedLabel = Label(root, text=\"Encryption\")\n",
    "\n",
    "def main():\n",
    "    encryption = list(encrypt(inputx.get()))\n",
    "    asciiLabel[\"text\"], encryptedLabel[\"text\"] = f\"ASCII: {encryption[0]}\", f\"Encryption: {encryption[1]}\"\n",
    "#setting up button\n",
    "button = Button(text=\"Display ASCII code and encrypted value\", command=main)  \n",
    "inputx.pack()\n",
    "button.pack()\n",
    "asciiLabel.pack()\n",
    "encryptedLabel.pack()\n",
    "\n",
    "root.mainloop()"
   ]
  },
  {
   "cell_type": "code",
   "execution_count": null,
   "outputs": [],
   "source": [],
   "metadata": {
    "collapsed": false
   }
  }
 ],
 "metadata": {
  "kernelspec": {
   "display_name": "Python 3 (ipykernel)",
   "language": "python",
   "name": "python3"
  },
  "language_info": {
   "codemirror_mode": {
    "name": "ipython",
    "version": 3
   },
   "file_extension": ".py",
   "mimetype": "text/x-python",
   "name": "python",
   "nbconvert_exporter": "python",
   "pygments_lexer": "ipython3",
   "version": "3.10.1"
  }
 },
 "nbformat": 4,
 "nbformat_minor": 5
}
